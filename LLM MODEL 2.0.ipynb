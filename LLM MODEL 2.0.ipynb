{
 "cells": [
  {
   "cell_type": "markdown",
   "id": "854b917b-7e96-4b47-9492-2986cfae5781",
   "metadata": {},
   "source": [
    "## Chatbot del Reglamento de tránsito de la Ciudad de México "
   ]
  },
  {
   "cell_type": "code",
   "execution_count": 1,
   "id": "95aa0c4e-04d2-4f73-9630-e4d9be719f5d",
   "metadata": {},
   "outputs": [],
   "source": [
    "#Librerías \n",
    "import os\n",
    "from langchain_openai import ChatOpenAI\n",
    "from langchain_core.prompts import ChatPromptTemplate, MessagesPlaceholder\n",
    "from langchain_core.output_parsers import StrOutputParser\n",
    "from langchain_community.document_loaders import PyPDFLoader\n",
    "from langchain_community.vectorstores import FAISS\n",
    "from langchain_openai import OpenAIEmbeddings\n",
    "from langchain.text_splitter import RecursiveCharacterTextSplitter\n",
    "from langchain.chains.combine_documents import create_stuff_documents_chain\n",
    "from langchain.chains import create_retrieval_chain\n",
    "from langchain_core.prompts import MessagesPlaceholder\n",
    "from langchain_core.messages import HumanMessage, AIMessage"
   ]
  },
  {
   "cell_type": "code",
   "execution_count": 2,
   "id": "627fbba4-c103-429e-bb36-3846fc726706",
   "metadata": {},
   "outputs": [
    {
     "data": {
      "text/plain": [
       "AIMessage(content=\"Langsmith can help with testing in several ways:\\n\\n1. Automated testing: Langsmith can generate test cases automatically, saving time and effort in writing test cases manually. It can generate a wide range of test cases, including both positive and negative scenarios, to ensure comprehensive coverage of the system under test.\\n\\n2. Test data generation: Langsmith can generate realistic and diverse test data, which is crucial for testing the system's behavior under various conditions. It can create different combinations of inputs to uncover edge cases and potential issues.\\n\\n3. Test case optimization: Langsmith can analyze existing test cases and identify redundant or overlapping test cases. By removing unnecessary test cases, it helps in reducing the testing effort while maintaining the same level of coverage.\\n\\n4. Bug detection: Langsmith can analyze code and identify potential bugs or vulnerabilities. It can simulate different execution paths and identify areas where the code might fail or behave unexpectedly.\\n\\n5. Performance testing: Langsmith can generate load and stress scenarios to test the performance and scalability of the system. It can simulate thousands of concurrent users or high data volumes to identify performance bottlenecks and ensure the system can handle the expected workload.\\n\\n6. Continuous integration and continuous testing: Langsmith can be integrated into the development pipeline to automate the testing process. It can automatically generate test cases, execute them, and provide feedback on the system's behavior, allowing for faster and more frequent testing cycles.\\n\\nOverall, Langsmith's AI capabilities can enhance the testing process by providing automated test case generation, efficient test data generation, bug detection, performance testing, and continuous testing integration.\")"
      ]
     },
     "execution_count": 2,
     "metadata": {},
     "output_type": "execute_result"
    }
   ],
   "source": [
    "#Iniciamos nuestro modelo\n",
    "openai_api_key = os.getenv(\"OPENAI_API_KEY\")\n",
    "llm = ChatOpenAI(openai_api_key=openai_api_key)\n",
    "llm.invoke(\"how can langsmith help with testing?\")"
   ]
  },
  {
   "cell_type": "code",
   "execution_count": 3,
   "id": "d09bf4ac-5139-4cd8-93bf-80099dc3131e",
   "metadata": {},
   "outputs": [],
   "source": [
    "# Definimos un mensaje introductorio de nuestro Chatbot \n",
    "system_intro = \"Hola. Soy una asistente de AI con un extenso conocimiento sobre las regulaciones de tránsito de la CDMX.\"\n"
   ]
  },
  {
   "cell_type": "code",
   "execution_count": 4,
   "id": "58d71c67-b0ec-4cf2-8830-3b53b95a3aed",
   "metadata": {},
   "outputs": [],
   "source": [
    "# Definimos la historia del chat\n",
    "chat_history = [\n",
    "    HumanMessage(content=\"Puede un vehiculo circular con poliza de seguro vencida?\"),\n",
    "    AIMessage(content=\"No!\")\n",
    "]"
   ]
  },
  {
   "cell_type": "code",
   "execution_count": 5,
   "id": "08eff62a-7d7f-4124-9912-386b070cb6ef",
   "metadata": {},
   "outputs": [],
   "source": [
    "# Input del usuario \n",
    "user_input = \"Dime por qué?\""
   ]
  },
  {
   "cell_type": "code",
   "execution_count": 6,
   "id": "c1c330bd-f040-409d-91ce-e80b527af373",
   "metadata": {},
   "outputs": [],
   "source": [
    "# Función para procesar el input del usuario\n",
    "def process_user_input(user_input):\n",
    "    # Remove leading and trailing whitespaces\n",
    "    user_input = user_input.strip()\n",
    "\n",
    "    # Check if the user input is empty\n",
    "    if not user_input:\n",
    "        print(\"Error: Please provide a valid input.\")\n",
    "        return None\n",
    "\n",
    "    # Additional input processing logic if needed...\n",
    "\n",
    "    return user_input"
   ]
  },
  {
   "cell_type": "code",
   "execution_count": 19,
   "id": "3a35b46b-0e26-4865-9f11-c9c57d21b2cf",
   "metadata": {},
   "outputs": [],
   "source": [
    "def invoke_chatbot(input_data, chat_history=None):\n",
    "    try:\n",
    "        # Get the system introduction\n",
    "        system_intro = \"You are an AI assistant with extensive knowledge of traffic regulations in Mexico City.\"\n",
    "\n",
    "        # Generate the full input using the system introduction, chat history, and user input\n",
    "        full_input = generate_full_input(input_data, system_intro, chat_history)\n",
    "\n",
    "        # Prepare the input data with optional chat history\n",
    "        input_payload = {\"input\": full_input}\n",
    "\n",
    "        # Invoke the chatbot\n",
    "        response = retrieval_chain.invoke(input_payload)\n",
    "\n",
    "        # Extract and print the answer\n",
    "        answer = response.get(\"answer\", \"Sorry, I couldn't generate a valid response.\")\n",
    "        print(\"Chatbot Response:\", answer)\n",
    "\n",
    "        return answer\n",
    "\n",
    "    except Exception as e:\n",
    "        print(f\"An error occurred while invoking the chatbot: {str(e)}\")\n",
    "        # Handle the error gracefully, e.g., log the error, inform the user, or return an error message\n",
    "        return \"Sorry, an error occurred while processing your request.\""
   ]
  },
  {
   "cell_type": "code",
   "execution_count": 20,
   "id": "528feeff-2ef3-4878-8451-7ac979f7555a",
   "metadata": {},
   "outputs": [],
   "source": [
    "def process_and_invoke(user_input, chat_history=None):\n",
    "    processed_input = process_user_input(user_input)\n",
    "\n",
    "    # Check if the input is valid before proceeding\n",
    "    if processed_input is not None:\n",
    "        # Generate the full input including system introduction and chat history\n",
    "        full_input = generate_full_input(processed_input, system_intro, chat_history)\n",
    "        invoke_chatbot(full_input, chat_history)\n",
    "\n",
    "# Example usage\n",
    "#process_and_invoke(user_input, chat_history)"
   ]
  },
  {
   "cell_type": "markdown",
   "id": "3ad19577-05ff-472b-96da-14962293d5f0",
   "metadata": {},
   "source": [
    "## Template introductorio"
   ]
  },
  {
   "cell_type": "code",
   "execution_count": 21,
   "id": "32d0167f-078d-42be-8845-4ce925cf0ff2",
   "metadata": {},
   "outputs": [],
   "source": [
    "# Template de la introducción y el input del usuario\n",
    "custom_prompt = ChatPromptTemplate.from_messages([\n",
    "    (\"system\", system_intro),\n",
    "    MessagesPlaceholder(variable_name=\"chat_history\"),\n",
    "    (\"user\", \"{input}\")\n",
    "])\n"
   ]
  },
  {
   "cell_type": "markdown",
   "id": "469b8f09-9275-4da0-a4ad-bd7dccc02cfa",
   "metadata": {},
   "source": [
    "- Carga de los datos "
   ]
  },
  {
   "cell_type": "code",
   "execution_count": 22,
   "id": "a3a5976f-7e59-4f52-8b73-41e70355e486",
   "metadata": {},
   "outputs": [],
   "source": [
    "# Carga del PDF\n",
    "loader = PyPDFLoader(\"raw_data/Reglamento_CDMX.pdf\")\n",
    "pages = loader.load_and_split()"
   ]
  },
  {
   "cell_type": "code",
   "execution_count": 23,
   "id": "7052d2b9-2694-4965-b5e7-315b48dc8f2b",
   "metadata": {},
   "outputs": [],
   "source": [
    "# Creación de vectores y embeddings\n",
    "embeddings = OpenAIEmbeddings()\n",
    "text_splitter = RecursiveCharacterTextSplitter()\n",
    "documents = text_splitter.split_documents(pages)\n",
    "vector = FAISS.from_documents(documents, embeddings)"
   ]
  },
  {
   "cell_type": "code",
   "execution_count": 24,
   "id": "b8078e04-74e9-44a7-a9d2-262cdbfcbeb2",
   "metadata": {},
   "outputs": [],
   "source": [
    "# Creación de la cadena de documentos \n",
    "prompt = ChatPromptTemplate.from_template(\"\"\"Answer the following question based only on the provided context:\n",
    "<context>\n",
    "{context}\n",
    "</context>\n",
    "Question: {input}\"\"\")\n",
    "document_chain = create_stuff_documents_chain(llm, prompt)"
   ]
  },
  {
   "cell_type": "code",
   "execution_count": 25,
   "id": "d52a5767-48c1-4ad0-977e-5fa1b713cbfd",
   "metadata": {},
   "outputs": [],
   "source": [
    "# Creación del Retrieval Chain\n",
    "retriever = vector.as_retriever()\n",
    "retrieval_chain = create_retrieval_chain(retriever, document_chain)"
   ]
  },
  {
   "cell_type": "code",
   "execution_count": 26,
   "id": "e39dc8bc-5bad-4d33-b327-c04892ddc683",
   "metadata": {},
   "outputs": [
    {
     "name": "stdout",
     "output_type": "stream",
     "text": [
      "Según el contexto proporcionado, un menor de edad necesita ser capaz de sujetarse por sí mismo a la motocicleta y colocar adecuada y firmemente los pies en los estribos o posa pies, a menos que cuente con aditamentos especialmente diseñados para su seguridad.\n"
     ]
    }
   ],
   "source": [
    "# Example usage of retrieval chain\n",
    "response = retrieval_chain.invoke({\"input\": \"que requisito necesita un menor de edad para circular un vehiculo?\"})\n",
    "print(response[\"answer\"])"
   ]
  },
  {
   "cell_type": "markdown",
   "id": "374be1a5-ba03-4135-95fe-d08fa566164b",
   "metadata": {},
   "source": [
    "## Creación completa del Input final "
   ]
  },
  {
   "cell_type": "code",
   "execution_count": 27,
   "id": "c7f28d2a-026b-499a-bb54-af8d61113dfa",
   "metadata": {},
   "outputs": [],
   "source": [
    "def generate_full_input(user_input, system_intro, chat_history=None):\n",
    "    # Combine the system introduction, chat history, and user input\n",
    "    full_input = f\"{system_intro}\\n\\n\"\n",
    "    if chat_history:\n",
    "        for message in chat_history:\n",
    "            full_input += f\"{message.content}\\n\"\n",
    "    full_input += f\"User: {user_input}\"\n",
    "    return full_input"
   ]
  },
  {
   "cell_type": "code",
   "execution_count": 28,
   "id": "917636d4-7dae-4429-a53f-3c568a29e331",
   "metadata": {},
   "outputs": [
    {
     "name": "stdout",
     "output_type": "stream",
     "text": [
      "Según el contexto proporcionado, un menor de edad necesita poder sujetarse por sí mismo a la motocicleta y poder colocar adecuada y firmemente los pies en los estribos o posa pies, a menos que cuente con aditamentos especialmente diseñados para su seguridad.\n"
     ]
    }
   ],
   "source": [
    "# Example usage of retrieval chain\n",
    "response = retrieval_chain.invoke({\"input\": generate_full_input(\"que requisito necesita un menor de edad para circular un vehiculo?\", system_intro)})\n",
    "print(response[\"answer\"])"
   ]
  },
  {
   "cell_type": "code",
   "execution_count": 29,
   "id": "e46655f3-865b-449b-ad2e-54ea7ed70d75",
   "metadata": {},
   "outputs": [
    {
     "name": "stdout",
     "output_type": "stream",
     "text": [
      "Chatbot Response: En el contexto proporcionado no se menciona ningún requisito específico para que un menor de edad pueda circular un vehículo. Sin embargo, generalmente en México se requiere que los menores de edad cuenten con una licencia de conducir o permiso especial, dependiendo de la edad y las regulaciones específicas de cada estado. Es importante consultar la legislación local y cumplir con todos los requisitos legales antes de permitir que un menor de edad conduzca un vehículo.\n"
     ]
    }
   ],
   "source": [
    "process_and_invoke(\"que requisito necesita un menor de edad para circular un vehiculo?\", chat_history)"
   ]
  },
  {
   "cell_type": "code",
   "execution_count": 30,
   "id": "37e28800-35aa-4ab7-b5fa-80dcadeeaec2",
   "metadata": {},
   "outputs": [
    {
     "name": "stdout",
     "output_type": "stream",
     "text": [
      "Chatbot Response: No, no se puede conducir un vehículo sin una póliza de seguro vigente. Es obligatorio tener una póliza de seguro de responsabilidad civil vigente para circular en la Ciudad de México.\n"
     ]
    }
   ],
   "source": [
    "process_and_invoke(\"se puede conducir un vehiculo sin poliza de seguro vigente?\", chat_history)"
   ]
  },
  {
   "cell_type": "code",
   "execution_count": 31,
   "id": "36d29914-c8fa-427e-a8a6-b9a0ad7f615f",
   "metadata": {},
   "outputs": [
    {
     "name": "stdout",
     "output_type": "stream",
     "text": [
      "Chatbot Response: Un vehículo no puede circular con una póliza de seguro vencida porque es una obligación legal que los vehículos cuenten con una póliza de seguro vigente que ampare la responsabilidad civil por daños a terceros en su persona y en su patrimonio. Circular sin un seguro válido es una infracción y puede resultar en multas y sanciones según las regulaciones de tránsito.\n"
     ]
    },
    {
     "data": {
      "text/plain": [
       "'Un vehículo no puede circular con una póliza de seguro vencida porque es una obligación legal que los vehículos cuenten con una póliza de seguro vigente que ampare la responsabilidad civil por daños a terceros en su persona y en su patrimonio. Circular sin un seguro válido es una infracción y puede resultar en multas y sanciones según las regulaciones de tránsito.'"
      ]
     },
     "execution_count": 31,
     "metadata": {},
     "output_type": "execute_result"
    }
   ],
   "source": [
    "user_input = \"Dime por qué?\"\n",
    "\n",
    "# Process and invoke the chatbot\n",
    "invoke_chatbot(user_input, chat_history)"
   ]
  },
  {
   "cell_type": "code",
   "execution_count": null,
   "id": "6efc9ed4-42c3-451a-abc2-b8ce90e654ed",
   "metadata": {},
   "outputs": [],
   "source": []
  }
 ],
 "metadata": {
  "kernelspec": {
   "display_name": "Python 3 (ipykernel)",
   "language": "python",
   "name": "python3"
  },
  "language_info": {
   "codemirror_mode": {
    "name": "ipython",
    "version": 3
   },
   "file_extension": ".py",
   "mimetype": "text/x-python",
   "name": "python",
   "nbconvert_exporter": "python",
   "pygments_lexer": "ipython3",
   "version": "3.10.6"
  }
 },
 "nbformat": 4,
 "nbformat_minor": 5
}
